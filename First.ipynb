{
 "cells": [
  {
   "cell_type": "code",
   "execution_count": 3,
   "metadata": {},
   "outputs": [],
   "source": [
    "import numpy"
   ]
  },
  {
   "cell_type": "code",
   "execution_count": 5,
   "metadata": {},
   "outputs": [
    {
     "name": "stdout",
     "output_type": "stream",
     "text": [
      "[[0. 0.]\n",
      " [0. 0.]\n",
      " [0. 0.]]\n"
     ]
    }
   ],
   "source": [
    "a = numpy.zeros( [3,2] )\n",
    "print(a)"
   ]
  },
  {
   "cell_type": "code",
   "execution_count": 14,
   "metadata": {},
   "outputs": [],
   "source": [
    "a[0,0] = 1\n",
    "a[0,1] = 3\n",
    "a[1,0] = 2\n",
    "a[2,0] = 6\n",
    "a[2,1] = 2"
   ]
  },
  {
   "cell_type": "code",
   "execution_count": 6,
   "metadata": {},
   "outputs": [],
   "source": [
    "import matplotlib.pyplot"
   ]
  },
  {
   "cell_type": "code",
   "execution_count": 8,
   "metadata": {},
   "outputs": [],
   "source": [
    "#Para abrir os gráficos aqui e não em outra janela\n",
    "%matplotlib inline"
   ]
  },
  {
   "cell_type": "code",
   "execution_count": 15,
   "metadata": {},
   "outputs": [
    {
     "data": {
      "text/plain": [
       "<matplotlib.image.AxesImage at 0x207ac5c7880>"
      ]
     },
     "execution_count": 15,
     "metadata": {},
     "output_type": "execute_result"
    },
    {
     "data": {
      "image/png": "[encoded data removed]",
      "text/plain": [
       "<Figure size 432x288 with 1 Axes>"
      ]
     },
     "metadata": {
      "needs_background": "light"
     },
     "output_type": "display_data"
    }
   ],
   "source": [
    "matplotlib.pyplot.imshow(a, interpolation=\"nearest\")"
   ]
  },
  {
   "cell_type": "code",
   "execution_count": 42,
   "metadata": {},
   "outputs": [],
   "source": [
    "#Para a sigmoid function - expit(x)\n",
    "import scipy.special"
   ]
  },
  {
   "cell_type": "code",
   "execution_count": 43,
   "metadata": {},
   "outputs": [],
   "source": [
    "class neuralNetwork:\n",
    "        \n",
    "        #Inicializar a rede neural\n",
    "        def __init__(self, inputNodes, hiddenNodes, outputNodes, learningRate):\n",
    "            self.inodes = inputNodes\n",
    "            self.hnodes = hiddenNodes\n",
    "            self.onodes = outputNodes\n",
    "            \n",
    "            #Criando o peso das ligações com o 1/raiz(num of incoming links) com uma distribuição normal\n",
    "            self.wih = numpy.random.normal(0.0, pow(self.inodes, -0.5), (self.hnodes, self.inodes))\n",
    "            self.who = numpy.random.normal(0.0, pow(self.inodes, -0.5), (self.onodes, self.hnodes))\n",
    "            \n",
    "            self.lr = learningRate\n",
    "            \n",
    "            #Inicializando a função de sigmoid, a função de ativação\n",
    "            self.activation_function = lambda x: scipy.special.expit(x)\n",
    "            \n",
    "            pass\n",
    "        \n",
    "        #Treinar a rede neural\n",
    "        def train(self, inputs_list, targets_list):\n",
    "            inputs = numpy.array(inputs_list, ndmin=2).T\n",
    "            targets = numpy.array(targets_list, ndmin = 2).T\n",
    "             \n",
    "            hidden_inputs = numpy.dot(self.wih, inputs)\n",
    "            \n",
    "            hidden_outputs = self.activation_function(hidden_inputs)\n",
    "            \n",
    "            final_inputs = numpy.dot(self.who, hidden_outputs)\n",
    "            \n",
    "            final_outputs = self.activation_function(final_inputs)\n",
    "            #-----------#\n",
    "            \n",
    "            targets = numpy.array(targets_list, ndmin=2).T\n",
    "            \n",
    "            #error is the (target - actual)\n",
    "            output_errors = targets - final_outputs\n",
    "            \n",
    "            #hidden layer error\n",
    "            hidden_errors = numpy.dot(self.who.T, output_errors)\n",
    "            \n",
    "            #atualizar os pesos entre hidden e output layers\n",
    "            self.who += self.lr * numpy.dot((output_errors * final_outputs * (1 - final_outputs)), numpy.transpose(hidden_outputs))\n",
    "            \n",
    "            #atualizar os pesos entre hidden e input layers\n",
    "            self.wih += self.lr * numpy.dot((hidden_errors * hidden_outputs * (1 - hidden_outputs)), numpy.transpose(inputs))\n",
    "\n",
    "            \n",
    "            pass\n",
    "        \n",
    "        #Dar uma resposta, dada uma entrada\n",
    "        def query(self, inputs_list):\n",
    "            #Converter inputs list para array 2d, esse T é de transposta\n",
    "            inputs = numpy.array(inputs_list, ndmin=2).T\n",
    "            \n",
    "            #Multiplicar a matriz de peso entre input e hidden com os inputs, para ter os inputs do hidden\n",
    "            hidden_inputs = numpy.dot(self.wih, inputs)\n",
    "            \n",
    "            #Calculando os sinais de saida da função de ativação\n",
    "            hidden_outputs = self.activation_function(hidden_inputs)\n",
    "            \n",
    "            final_inputs = numpy.dot(self.who, hidden_outputs)\n",
    "            \n",
    "            final_outputs = self.activation_function(final_inputs)\n",
    "            \n",
    "            return final_outputs"
   ]
  },
  {
   "cell_type": "code",
   "execution_count": 127,
   "metadata": {},
   "outputs": [],
   "source": [
    "inputNodes = 3\n",
    "hiddenNodes = 3\n",
    "outputNodes = 3\n",
    "\n",
    "learningRate = 0.3\n",
    "\n",
    "n = neuralNetwork(inputNodes, hiddenNodes, outputNodes, learningRate)"
   ]
  },
  {
   "cell_type": "code",
   "execution_count": 128,
   "metadata": {},
   "outputs": [
    {
     "data": {
      "text/plain": [
       "array([[0.83035115],\n",
       "       [0.40400917],\n",
       "       [0.54721054]])"
      ]
     },
     "execution_count": 128,
     "metadata": {},
     "output_type": "execute_result"
    }
   ],
   "source": [
    "n.query([1.0, 0.5, -1.5])"
   ]
  },
  {
   "cell_type": "code",
   "execution_count": 159,
   "metadata": {},
   "outputs": [],
   "source": [
    "n.train([1.0, 0.5, -1.5], [0.8, 0.2, 0.5])"
   ]
  },
  {
   "cell_type": "code",
   "execution_count": 160,
   "metadata": {},
   "outputs": [
    {
     "data": {
      "text/plain": [
       "array([[0.8345067 ],\n",
       "       [0.34258593],\n",
       "       [0.53671367]])"
      ]
     },
     "execution_count": 160,
     "metadata": {},
     "output_type": "execute_result"
    }
   ],
   "source": [
    "n.query([1.0, 0.5, -1.5])"
   ]
  },
  {
   "cell_type": "code",
   "execution_count": 15,
   "metadata": {},
   "outputs": [],
   "source": [
    "data_file = open('mnist_dataset/mnist_train_100.csv','r')\n",
    "data_list = data_file.readlines()\n",
    "data_file.close()"
   ]
  },
  {
   "cell_type": "code",
   "execution_count": 23,
   "metadata": {
    "scrolled": true
   },
   "outputs": [
    {
     "data": {
      "text/plain": [
       "<matplotlib.image.AxesImage at 0x1ec4203fd00>"
      ]
     },
     "execution_count": 23,
     "metadata": {},
     "output_type": "execute_result"
    },
    {
     "data": {
      "image/png": "[encoded data removed]",
      "text/plain": [
       "<Figure size 432x288 with 1 Axes>"
      ]
     },
     "metadata": {
      "needs_background": "light"
     },
     "output_type": "display_data"
    }
   ],
   "source": [
    "import numpy\n",
    "import matplotlib.pyplot\n",
    "%matplotlib inline\n",
    "\n",
    "\n",
    "all_values = data_list[0].split(',')\n",
    "image_array = numpy.asfarray(all_values[1:]).reshape((28,28))\n",
    "matplotlib.pyplot.imshow(image_array, cmap='Greys', interpolation='None')"
   ]
  },
  {
   "cell_type": "markdown",
   "metadata": {},
   "source": []
  },
  {
   "cell_type": "code",
   "execution_count": 32,
   "metadata": {},
   "outputs": [
    {
     "name": "stdout",
     "output_type": "stream",
     "text": [
      "[0.01 0.01 0.01 0.01 0.01 0.99 0.01 0.01 0.01 0.01]\n"
     ]
    }
   ],
   "source": [
    "#Tratando os dados para valores corretos para a função de ativação\n",
    "\n",
    "#números da imagem de 0 a 255 para 0.01 até 0.99\n",
    "scaled_input = (numpy.asfarray(all_values[1:]) / 255.0 * 0.99) + 0.01\n",
    "#print(scaled_input)\n",
    "\n",
    "#números esperados no output para determinado imagem, entre 0.01 até 0.99 sendo este o número correspondente\n",
    "onodes = 10\n",
    "targets = numpy.zeros(onodes) + 0.01\n",
    "targets[int(all_values[0])] = 0.99\n",
    "print(targets)"
   ]
  },
  {
   "cell_type": "code",
   "execution_count": 50,
   "metadata": {},
   "outputs": [],
   "source": [
    "inputNodes = 784\n",
    "hiddenNodes = 100\n",
    "outputNodes = 10\n",
    "\n",
    "learningRate = 0.3\n",
    "\n",
    "n = neuralNetwork(inputNodes, hiddenNodes, outputNodes, learningRate)"
   ]
  },
  {
   "cell_type": "code",
   "execution_count": 68,
   "metadata": {},
   "outputs": [],
   "source": [
    "training_data_file = open('mnist_dataset/mnist_train_100.csv', 'r')\n",
    "training_data_list = training_data_file.readlines()\n",
    "training_data_file.close()"
   ]
  },
  {
   "cell_type": "code",
   "execution_count": 69,
   "metadata": {},
   "outputs": [],
   "source": [
    "#Treinar a rede neural\n",
    "for record in training_data_list:\n",
    "    all_values = record.split(',')\n",
    "    inputs = (numpy.asfarray(all_values[1:]) / 255.0 * 0.99) + 0.01\n",
    "    targets = numpy.zeros(outputNodes)+ 0.01\n",
    "    targets[int(all_values[0])] = 0.99\n",
    "    n.train(inputs, targets)\n",
    "    pass"
   ]
  },
  {
   "cell_type": "code",
   "execution_count": 78,
   "metadata": {},
   "outputs": [],
   "source": [
    "#Teste\n",
    "test_data_file = open('mnist_dataset/mnist_test_10.csv', 'r')\n",
    "test_data_list = test_data_file.readlines()\n",
    "test_data_file.close()"
   ]
  },
  {
   "cell_type": "code",
   "execution_count": 87,
   "metadata": {},
   "outputs": [
    {
     "name": "stdout",
     "output_type": "stream",
     "text": [
      "7\n"
     ]
    }
   ],
   "source": [
    "all_values = test_data_list[0].split(',')\n",
    "print(all_values[0])"
   ]
  },
  {
   "cell_type": "code",
   "execution_count": 88,
   "metadata": {},
   "outputs": [
    {
     "data": {
      "text/plain": [
       "array([[0.07991148],\n",
       "       [0.01316422],\n",
       "       [0.04638198],\n",
       "       [0.07522082],\n",
       "       [0.0638986 ],\n",
       "       [0.02936922],\n",
       "       [0.00394709],\n",
       "       [0.80527273],\n",
       "       [0.07015052],\n",
       "       [0.03466376]])"
      ]
     },
     "execution_count": 88,
     "metadata": {},
     "output_type": "execute_result"
    }
   ],
   "source": [
    "n.query((numpy.asfarray(all_values[1:]) / 255.0 * 0.99) + 0.01)"
   ]
  },
  {
   "cell_type": "code",
   "execution_count": 90,
   "metadata": {},
   "outputs": [
    {
     "name": "stdout",
     "output_type": "stream",
     "text": [
      "7 correct_label\n",
      "7 Network`s answer\n",
      "2 correct_label\n",
      "0 Network`s answer\n",
      "1 correct_label\n",
      "1 Network`s answer\n",
      "0 correct_label\n",
      "0 Network`s answer\n",
      "4 correct_label\n",
      "4 Network`s answer\n",
      "1 correct_label\n",
      "1 Network`s answer\n",
      "4 correct_label\n",
      "4 Network`s answer\n",
      "9 correct_label\n",
      "4 Network`s answer\n",
      "5 correct_label\n",
      "4 Network`s answer\n",
      "9 correct_label\n",
      "7 Network`s answer\n",
      "[1, 0, 1, 1, 1, 1, 1, 0, 0, 0]\n",
      "Perfomance =  0.6\n"
     ]
    }
   ],
   "source": [
    "#Testar e analisar\n",
    "\n",
    "scorecard = []\n",
    "\n",
    "for record in test_data_list:\n",
    "    all_values = record.split(',')\n",
    "    \n",
    "    correct_label = int(all_values[0])\n",
    "    print(correct_label, 'correct_label')\n",
    "    \n",
    "    inputs = (numpy.asfarray(all_values[1:]) / 255.0 * 0.99) + 0.01\n",
    "    outputs = n.query(inputs)\n",
    "    \n",
    "    label = numpy.argmax(outputs)\n",
    "    print(label, 'Network`s answer')\n",
    "    \n",
    "    if (label == correct_label):\n",
    "        scorecard.append(1)\n",
    "    else:\n",
    "        scorecard.append(0)\n",
    "    \n",
    "    pass\n",
    "print(scorecard)\n",
    "scorecard_array = numpy.asarray(scorecard)\n",
    "print ('Perfomance = ', scorecard_array.sum() / scorecard_array.size)"
   ]
  },
  {
   "cell_type": "code",
   "execution_count": null,
   "metadata": {},
   "outputs": [],
   "source": []
  }
 ],
 "metadata": {
  "kernelspec": {
   "display_name": "Python 3",
   "language": "python",
   "name": "python3"
  },
  "language_info": {
   "codemirror_mode": {
    "name": "ipython",
    "version": 3
   },
   "file_extension": ".py",
   "mimetype": "text/x-python",
   "name": "python",
   "nbconvert_exporter": "python",
   "pygments_lexer": "ipython3",
   "version": "3.8.3"
  }
 },
 "nbformat": 4,
 "nbformat_minor": 4
}
