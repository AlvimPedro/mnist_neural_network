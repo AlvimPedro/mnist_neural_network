{
 "cells": [
  {
   "cell_type": "code",
   "execution_count": 1,
   "metadata": {},
   "outputs": [],
   "source": [
    "import numpy\n",
    "\n",
    "import scipy.special\n",
    "\n",
    "import matplotlib.pyplot\n",
    "%matplotlib inline"
   ]
  },
  {
   "cell_type": "code",
   "execution_count": 2,
   "metadata": {},
   "outputs": [],
   "source": [
    "class neuralNetwork:\n",
    "        \n",
    "        #Inicializar a rede neural\n",
    "        def __init__(self, inputNodes, hiddenNodes, outputNodes, learningRate):\n",
    "            self.inodes = inputNodes\n",
    "            self.hnodes = hiddenNodes\n",
    "            self.onodes = outputNodes\n",
    "            \n",
    "            #Criando o peso das ligações com o 1/raiz(num of incoming links) com uma distribuição normal\n",
    "            self.wih = numpy.random.normal(0.0, pow(self.inodes, -0.5), (self.hnodes, self.inodes))\n",
    "            self.who = numpy.random.normal(0.0, pow(self.inodes, -0.5), (self.onodes, self.hnodes))\n",
    "            \n",
    "            self.lr = learningRate\n",
    "            \n",
    "            #Inicializando a função de sigmoid, a função de ativação\n",
    "            self.activation_function = lambda x: scipy.special.expit(x)\n",
    "            \n",
    "            pass\n",
    "        \n",
    "        #Treinar a rede neural\n",
    "        def train(self, inputs_list, targets_list):\n",
    "            inputs = numpy.array(inputs_list, ndmin=2).T\n",
    "            targets = numpy.array(targets_list, ndmin = 2).T\n",
    "             \n",
    "            hidden_inputs = numpy.dot(self.wih, inputs)\n",
    "            \n",
    "            hidden_outputs = self.activation_function(hidden_inputs)\n",
    "            \n",
    "            final_inputs = numpy.dot(self.who, hidden_outputs)\n",
    "            \n",
    "            final_outputs = self.activation_function(final_inputs)\n",
    "            #-----------#\n",
    "            \n",
    "            targets = numpy.array(targets_list, ndmin=2).T\n",
    "            \n",
    "            #error is the (target - actual)\n",
    "            output_errors = targets - final_outputs\n",
    "            \n",
    "            #hidden layer error\n",
    "            hidden_errors = numpy.dot(self.who.T, output_errors)\n",
    "            \n",
    "            #atualizar os pesos entre hidden e output layers\n",
    "            self.who += self.lr * numpy.dot((output_errors * final_outputs * (1 - final_outputs)), numpy.transpose(hidden_outputs))\n",
    "            \n",
    "            #atualizar os pesos entre hidden e input layers\n",
    "            self.wih += self.lr * numpy.dot((hidden_errors * hidden_outputs * (1 - hidden_outputs)), numpy.transpose(inputs))\n",
    "\n",
    "            \n",
    "            pass\n",
    "        \n",
    "        #Dar uma resposta, dada uma entrada\n",
    "        def query(self, inputs_list):\n",
    "            #Converter inputs list para array 2d, esse T é de transposta\n",
    "            inputs = numpy.array(inputs_list, ndmin=2).T\n",
    "            \n",
    "            #Multiplicar a matriz de peso entre input e hidden com os inputs, para ter os inputs do hidden\n",
    "            hidden_inputs = numpy.dot(self.wih, inputs)\n",
    "            \n",
    "            #Calculando os sinais de saida da função de ativação\n",
    "            hidden_outputs = self.activation_function(hidden_inputs)\n",
    "            \n",
    "            final_inputs = numpy.dot(self.who, hidden_outputs)\n",
    "            \n",
    "            final_outputs = self.activation_function(final_inputs)\n",
    "            \n",
    "            return final_outputs"
   ]
  },
  {
   "cell_type": "code",
   "execution_count": 3,
   "metadata": {},
   "outputs": [],
   "source": [
    "inputNodes = 784\n",
    "hiddenNodes = 100\n",
    "outputNodes = 10\n",
    "\n",
    "learningRate = 0.1\n",
    "\n",
    "n = neuralNetwork(inputNodes, hiddenNodes, outputNodes, learningRate)"
   ]
  },
  {
   "cell_type": "code",
   "execution_count": 6,
   "metadata": {},
   "outputs": [],
   "source": [
    "training_data_file = open('mnist_dataset/mnist_train.csv', 'r')\n",
    "training_data_list = training_data_file.readlines()\n",
    "training_data_file.close()"
   ]
  },
  {
   "cell_type": "code",
   "execution_count": 7,
   "metadata": {},
   "outputs": [],
   "source": [
    "#Treinar a rede neural\n",
    "epochs = 1\n",
    "for e in range(epochs):\n",
    "    for record in training_data_list:\n",
    "        all_values = record.split(',')\n",
    "        inputs = (numpy.asfarray(all_values[1:]) / 255.0 * 0.99) + 0.01\n",
    "        targets = numpy.zeros(outputNodes)+ 0.01\n",
    "        targets[int(all_values[0])] = 0.99\n",
    "        n.train(inputs, targets)\n",
    "        pass\n",
    "    pass"
   ]
  },
  {
   "cell_type": "code",
   "execution_count": 8,
   "metadata": {},
   "outputs": [],
   "source": [
    "#Teste\n",
    "test_data_file = open('mnist_dataset/mnist_test.csv', 'r')\n",
    "test_data_list = test_data_file.readlines()\n",
    "test_data_file.close()"
   ]
  },
  {
   "cell_type": "code",
   "execution_count": 9,
   "metadata": {},
   "outputs": [
    {
     "name": "stdout",
     "output_type": "stream",
     "text": [
      "Perfomance =  0.9494\n"
     ]
    }
   ],
   "source": [
    "#Testar e analisar\n",
    "\n",
    "scorecard = []\n",
    "\n",
    "for record in test_data_list:\n",
    "    all_values = record.split(',')\n",
    "    \n",
    "    correct_label = int(all_values[0])\n",
    "    #print(correct_label, 'correct_label')\n",
    "    \n",
    "    inputs = (numpy.asfarray(all_values[1:]) / 255.0 * 0.99) + 0.01\n",
    "    outputs = n.query(inputs)\n",
    "    \n",
    "    label = numpy.argmax(outputs)\n",
    "    #print(label, 'Network`s answer')\n",
    "    \n",
    "    if (label == correct_label):\n",
    "        scorecard.append(1)\n",
    "    else:\n",
    "        scorecard.append(0)\n",
    "    \n",
    "    pass\n",
    "#print(scorecard)\n",
    "scorecard_array = numpy.asarray(scorecard)\n",
    "print ('Perfomance = ', scorecard_array.sum() / scorecard_array.size)"
   ]
  },
  {
   "cell_type": "code",
   "execution_count": 67,
   "metadata": {},
   "outputs": [],
   "source": [
    "#0.9445 with 1 epcoh and 0.2 learning rate\n",
    "#0.9611 with 5 epoch and 0.2 learning rate\n",
    "#0.9660 with 7 epoch and 0.1 learning rate"
   ]
  },
  {
   "cell_type": "code",
   "execution_count": null,
   "metadata": {},
   "outputs": [],
   "source": []
  }
 ],
 "metadata": {
  "kernelspec": {
   "display_name": "Python 3",
   "language": "python",
   "name": "python3"
  },
  "language_info": {
   "codemirror_mode": {
    "name": "ipython",
    "version": 3
   },
   "file_extension": ".py",
   "mimetype": "text/x-python",
   "name": "python",
   "nbconvert_exporter": "python",
   "pygments_lexer": "ipython3",
   "version": "3.8.3"
  }
 },
 "nbformat": 4,
 "nbformat_minor": 4
}
